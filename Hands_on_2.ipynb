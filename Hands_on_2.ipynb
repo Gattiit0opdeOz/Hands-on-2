{
  "nbformat": 4,
  "nbformat_minor": 0,
  "metadata": {
    "colab": {
      "provenance": [],
      "toc_visible": true,
      "authorship_tag": "ABX9TyOpt1Bxzju5Llk+AeiwCpjt",
      "include_colab_link": true
    },
    "kernelspec": {
      "name": "python3",
      "display_name": "Python 3"
    },
    "language_info": {
      "name": "python"
    }
  },
  "cells": [
    {
      "cell_type": "markdown",
      "metadata": {
        "id": "view-in-github",
        "colab_type": "text"
      },
      "source": [
        "<a href=\"https://colab.research.google.com/github/Gattiit0opdeOz/Hands-on-2/blob/main/Hands_on_2.ipynb\" target=\"_parent\"><img src=\"https://colab.research.google.com/assets/colab-badge.svg\" alt=\"Open In Colab\"/></a>"
      ]
    },
    {
      "cell_type": "markdown",
      "source": [
        "# Librerias\n"
      ],
      "metadata": {
        "id": "tw3qFW2pTn1s"
      }
    },
    {
      "cell_type": "code",
      "source": [
        "import numpy as np\n",
        "import pandas as pd\n",
        "import matplotlib.pyplot as plt"
      ],
      "metadata": {
        "id": "zosUk76MTq0z"
      },
      "execution_count": null,
      "outputs": []
    },
    {
      "cell_type": "markdown",
      "source": [
        "numpy (np): Biblioteca para cálculos numéricos y operaciones matemáticas avanzadas\n",
        "\n",
        "pandas (pd): Biblioteca para manipulación y análisis de datos estructurados\n",
        "\n",
        "matplotlib.pyplot (plt): Biblioteca para crear visualizaciones y gráficos"
      ],
      "metadata": {
        "id": "r9BrJZCrTuLs"
      }
    },
    {
      "cell_type": "markdown",
      "source": [
        "# Dataset\n"
      ],
      "metadata": {
        "id": "--njI4UUTyEN"
      }
    },
    {
      "cell_type": "code",
      "source": [
        "data = {\n",
        "    'Advertising': [1, 2, 3, 4, 5, 6, 7, 8, 9],\n",
        "    'Sales': [2, 4, 6, 8, 10, 12, 14, 16, 18]\n",
        "}\n",
        "df = pd.DataFrame(data)"
      ],
      "metadata": {
        "id": "EdFwcAuRTwsw"
      },
      "execution_count": null,
      "outputs": []
    },
    {
      "cell_type": "markdown",
      "source": [
        "Advertising: Representa los gastos en publicidad (variable independiente X)\n",
        "\n",
        "Sales: Representa las ventas (variable dependiente Y)\n",
        "\n",
        "\n",
        "se conveierte el diccionario en un DataFrame de pandas para facilitar el análisis"
      ],
      "metadata": {
        "id": "3Uw-ZITRT6yZ"
      }
    },
    {
      "cell_type": "markdown",
      "source": [
        "# Calculo de valores necesarios\n"
      ],
      "metadata": {
        "id": "OJU4wcDYUCRw"
      }
    },
    {
      "cell_type": "code",
      "source": [
        "n = len(df)                                    # Número de observaciones\n",
        "sum_x = df['Advertising'].sum()                # Suma de X\n",
        "sum_y = df['Sales'].sum()                      # Suma de Y\n",
        "sum_xy = (df['Advertising'] * df['Sales']).sum() # Suma de XY\n",
        "sum_x_squared = (df['Advertising'] ** 2).sum()   # Suma de X²"
      ],
      "metadata": {
        "id": "-caw0tORUEqS"
      },
      "execution_count": null,
      "outputs": []
    },
    {
      "cell_type": "markdown",
      "source": [
        "n: Total de pares de datos (9 en este caso)\n",
        "\n",
        "sum_x: Suma de todos los valores de Advertising (ΣX)\n",
        "\n",
        "sum_y: Suma de todos los valores de Sales (ΣY)\n",
        "\n",
        "sum_xy: Suma del producto de X y Y (ΣXY)\n",
        "\n",
        "sum_x_squared: Suma de los cuadrados de X (ΣX²)"
      ],
      "metadata": {
        "id": "CSr8pTzlUKFc"
      }
    },
    {
      "cell_type": "markdown",
      "source": [
        "# Cálculo de β₁ y β₀\n"
      ],
      "metadata": {
        "id": "WGOSjWvTUXsh"
      }
    },
    {
      "cell_type": "code",
      "source": [
        "# Cálculo de β₁ (pendiente)\n",
        "beta_1 = (n * sum_xy - sum_x * sum_y) / (n * sum_x_squared - sum_x ** 2)\n",
        "\n",
        "# Cálculo de β₀ (intersección)\n",
        "beta_0 = (sum_x_squared * sum_y - sum_x * sum_xy) / (n * sum_x_squared - sum_x ** 2)"
      ],
      "metadata": {
        "id": "z_eH_bCyUctr"
      },
      "execution_count": null,
      "outputs": []
    },
    {
      "cell_type": "markdown",
      "source": [
        "β₁ = (nΣXY - ΣXΣY) / (nΣX² - (ΣX)²)\n",
        "\n",
        "β₀ = (ΣX²ΣY - ΣXΣXY) / (nΣX² - (ΣX)²)"
      ],
      "metadata": {
        "id": "KH4tAvRGUmVr"
      }
    },
    {
      "cell_type": "markdown",
      "source": [
        "# Visualización de los Resultados"
      ],
      "metadata": {
        "id": "EaNNpbUvUrdB"
      }
    },
    {
      "cell_type": "code",
      "source": [
        "plt.figure(figsize=(10, 6))\n",
        "plt.scatter(df['Advertising'], df['Sales'], color='blue', label='Datos reales')\n",
        "plt.plot(df['Advertising'], beta_0 + beta_1 * df['Advertising'], color='red', label='Línea de regresión')\n",
        "plt.xlabel('Advertising')\n",
        "plt.ylabel('Sales')\n",
        "plt.title('Regresión Lineal: Ventas vs Publicidad')\n",
        "plt.legend()\n",
        "plt.grid(True)"
      ],
      "metadata": {
        "id": "ZMjcG8V4Utkf"
      },
      "execution_count": null,
      "outputs": []
    },
    {
      "cell_type": "markdown",
      "source": [
        "Con esto se muestra la grafica"
      ],
      "metadata": {
        "id": "1ZAWL54ZUz9F"
      }
    },
    {
      "cell_type": "markdown",
      "source": [
        "# Tabla como el excel\n"
      ],
      "metadata": {
        "id": "hK-IU9VMU6wV"
      }
    },
    {
      "cell_type": "code",
      "source": [
        "print(\"\\nResultados:\")\n",
        "print(f\"β₀ (Intersección) = {beta_0:.4f}\")\n",
        "print(f\"β₁ (Pendiente) = {beta_1:.4f}\")\n",
        "print(\"\\nEcuación de la línea de regresión:\")\n",
        "print(f\"y = {beta_0:.4f} + {beta_1:.4f}x\")\n",
        "print(\"\\n\")\n",
        "\n",
        "df['x²'] = df['Advertising'] ** 2\n",
        "df['xy'] = df['Advertising'] * df['Sales']\n",
        "df['y_pred'] = beta_0 + beta_1 * df['Advertising']\n",
        "print(df)"
      ],
      "metadata": {
        "id": "TRM_NP5gU-F-"
      },
      "execution_count": null,
      "outputs": []
    },
    {
      "cell_type": "markdown",
      "source": [
        "Esto es en donde\n",
        "\n",
        "x²: Cuadrado de los valores de Advertising\n",
        "\n",
        "xy: Producto de Advertising y Sales\n",
        "\n",
        "y_pred: Valores predichos por el modelo"
      ],
      "metadata": {
        "id": "eDZJhcL_VI_s"
      }
    },
    {
      "cell_type": "markdown",
      "source": [
        "# Ejecución\n"
      ],
      "metadata": {
        "id": "oJCLhCVQVnsK"
      }
    },
    {
      "cell_type": "code",
      "execution_count": null,
      "metadata": {
        "colab": {
          "base_uri": "https://localhost:8080/",
          "height": 999
        },
        "id": "KqLEIxXuRfF2",
        "outputId": "1a5fdf63-1432-4200-9e29-e70b41ea5c5b"
      },
      "outputs": [
        {
          "output_type": "stream",
          "name": "stdout",
          "text": [
            "\n",
            "Resultados del análisis de regresión lineal:\n",
            "β₀ (Intersección) = 0.0000\n",
            "β₁ (Pendiente) = 2.0000\n",
            "\n",
            "Ecuación de la línea de regresión:\n",
            "y = 0.0000 + 2.0000x\n",
            "\n",
            "Tabla de cálculos:\n",
            "   Advertising  Sales  x²   xy  y_pred\n",
            "0            1      2   1    2     2.0\n",
            "1            2      4   4    8     4.0\n",
            "2            3      6   9   18     6.0\n",
            "3            4      8  16   32     8.0\n",
            "4            5     10  25   50    10.0\n",
            "5            6     12  36   72    12.0\n",
            "6            7     14  49   98    14.0\n",
            "7            8     16  64  128    16.0\n",
            "8            9     18  81  162    18.0\n",
            "\n",
            "Sumas totales:\n",
            "Σx = 45\n",
            "Σy = 90\n",
            "Σxy = 570\n",
            "Σx² = 285\n"
          ]
        },
        {
          "output_type": "display_data",
          "data": {
            "text/plain": [
              "<Figure size 1000x600 with 1 Axes>"
            ],
            "image/png": "[encoded data removed]"
          },
          "metadata": {}
        }
      ],
      "source": [
        "import numpy as np\n",
        "import pandas as pd\n",
        "import matplotlib.pyplot as plt\n",
        "\n",
        "# Crear el DataFrame con los datos de Benetton\n",
        "data = {\n",
        "    'Advertising': [1, 2, 3, 4, 5, 6, 7, 8, 9],\n",
        "    'Sales': [2, 4, 6, 8, 10, 12, 14, 16, 18]\n",
        "}\n",
        "\n",
        "df = pd.DataFrame(data)\n",
        "\n",
        "# Calcular los valores necesarios para la regresión\n",
        "n = len(df)\n",
        "sum_x = df['Advertising'].sum()\n",
        "sum_y = df['Sales'].sum()\n",
        "sum_xy = (df['Advertising'] * df['Sales']).sum()\n",
        "sum_x_squared = (df['Advertising'] ** 2).sum()\n",
        "\n",
        "# Calcular β₁ (pendiente)\n",
        "beta_1 = (n * sum_xy - sum_x * sum_y) / (n * sum_x_squared - sum_x ** 2)\n",
        "\n",
        "# Calcular β₀ (intersección)\n",
        "beta_0 = (sum_x_squared * sum_y - sum_x * sum_xy) / (n * sum_x_squared - sum_x ** 2)\n",
        "\n",
        "# Crear visualización\n",
        "plt.figure(figsize=(10, 6))\n",
        "plt.scatter(df['Advertising'], df['Sales'], color='blue', label='Datos reales')\n",
        "plt.plot(df['Advertising'], beta_0 + beta_1 * df['Advertising'], color='red', label='Línea de regresión')\n",
        "plt.xlabel('Advertising')\n",
        "plt.ylabel('Sales')\n",
        "plt.title('Regresión Lineal: Ventas vs Publicidad')\n",
        "plt.legend()\n",
        "plt.grid(True)\n",
        "\n",
        "# Imprimir resultados\n",
        "print(\"\\nResultados del análisis de regresión lineal:\")\n",
        "print(f\"β₀ (Intersección) = {beta_0:.4f}\")\n",
        "print(f\"β₁ (Pendiente) = {beta_1:.4f}\")\n",
        "print(\"\\nEcuación de la línea de regresión:\")\n",
        "print(f\"y = {beta_0:.4f} + {beta_1:.4f}x\")\n",
        "\n",
        "# Crear tabla de resultados\n",
        "print(\"\\nTabla de cálculos:\")\n",
        "df['x²'] = df['Advertising'] ** 2\n",
        "df['xy'] = df['Advertising'] * df['Sales']\n",
        "df['y_pred'] = beta_0 + beta_1 * df['Advertising']\n",
        "print(df)\n",
        "\n",
        "# Imprimir sumas totales\n",
        "print(\"\\nSumas totales:\")\n",
        "print(f\"Σx = {sum_x}\")\n",
        "print(f\"Σy = {sum_y}\")\n",
        "print(f\"Σxy = {sum_xy}\")\n",
        "print(f\"Σx² = {sum_x_squared}\")"
      ]
    }
  ]
}